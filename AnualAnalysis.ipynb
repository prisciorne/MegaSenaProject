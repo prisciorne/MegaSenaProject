{
 "cells": [
  {
   "cell_type": "code",
   "execution_count": 2,
   "metadata": {},
   "outputs": [],
   "source": [
    "import numpy as np\n",
    "import pandas as pd"
   ]
  },
  {
   "cell_type": "code",
   "execution_count": 3,
   "metadata": {},
   "outputs": [
    {
     "data": {
      "text/html": [
       "<div>\n",
       "<style scoped>\n",
       "    .dataframe tbody tr th:only-of-type {\n",
       "        vertical-align: middle;\n",
       "    }\n",
       "\n",
       "    .dataframe tbody tr th {\n",
       "        vertical-align: top;\n",
       "    }\n",
       "\n",
       "    .dataframe thead th {\n",
       "        text-align: right;\n",
       "    }\n",
       "</style>\n",
       "<table border=\"1\" class=\"dataframe\">\n",
       "  <thead>\n",
       "    <tr style=\"text-align: right;\">\n",
       "      <th></th>\n",
       "      <th>Concurso</th>\n",
       "      <th>Data</th>\n",
       "      <th>bola 1</th>\n",
       "      <th>bola 2</th>\n",
       "      <th>bola 3</th>\n",
       "      <th>bola 4</th>\n",
       "      <th>bola 5</th>\n",
       "      <th>bola 6</th>\n",
       "      <th>sequencia_numeros</th>\n",
       "      <th>sequencial</th>\n",
       "    </tr>\n",
       "  </thead>\n",
       "  <tbody>\n",
       "    <tr>\n",
       "      <th>0</th>\n",
       "      <td>2638</td>\n",
       "      <td>28/09/2023</td>\n",
       "      <td>44</td>\n",
       "      <td>55</td>\n",
       "      <td>54</td>\n",
       "      <td>30</td>\n",
       "      <td>34</td>\n",
       "      <td>9</td>\n",
       "      <td>[9, 30, 34, 44, 54, 55]</td>\n",
       "      <td>Yes</td>\n",
       "    </tr>\n",
       "    <tr>\n",
       "      <th>1</th>\n",
       "      <td>2637</td>\n",
       "      <td>26/09/2023</td>\n",
       "      <td>32</td>\n",
       "      <td>34</td>\n",
       "      <td>10</td>\n",
       "      <td>1</td>\n",
       "      <td>59</td>\n",
       "      <td>2</td>\n",
       "      <td>[1, 2, 10, 32, 34, 59]</td>\n",
       "      <td>Yes</td>\n",
       "    </tr>\n",
       "    <tr>\n",
       "      <th>2</th>\n",
       "      <td>2636</td>\n",
       "      <td>23/09/2023</td>\n",
       "      <td>43</td>\n",
       "      <td>16</td>\n",
       "      <td>5</td>\n",
       "      <td>38</td>\n",
       "      <td>42</td>\n",
       "      <td>48</td>\n",
       "      <td>[5, 16, 38, 42, 43, 48]</td>\n",
       "      <td>Yes</td>\n",
       "    </tr>\n",
       "    <tr>\n",
       "      <th>3</th>\n",
       "      <td>2635</td>\n",
       "      <td>21/09/2023</td>\n",
       "      <td>37</td>\n",
       "      <td>29</td>\n",
       "      <td>6</td>\n",
       "      <td>58</td>\n",
       "      <td>56</td>\n",
       "      <td>11</td>\n",
       "      <td>[6, 11, 29, 37, 56, 58]</td>\n",
       "      <td>No</td>\n",
       "    </tr>\n",
       "    <tr>\n",
       "      <th>4</th>\n",
       "      <td>2634</td>\n",
       "      <td>19/09/2023</td>\n",
       "      <td>56</td>\n",
       "      <td>8</td>\n",
       "      <td>28</td>\n",
       "      <td>48</td>\n",
       "      <td>32</td>\n",
       "      <td>27</td>\n",
       "      <td>[8, 27, 28, 32, 48, 56]</td>\n",
       "      <td>Yes</td>\n",
       "    </tr>\n",
       "  </tbody>\n",
       "</table>\n",
       "</div>"
      ],
      "text/plain": [
       "   Concurso        Data  bola 1  bola 2  bola 3  bola 4  bola 5  bola 6  \\\n",
       "0      2638  28/09/2023      44      55      54      30      34       9   \n",
       "1      2637  26/09/2023      32      34      10       1      59       2   \n",
       "2      2636  23/09/2023      43      16       5      38      42      48   \n",
       "3      2635  21/09/2023      37      29       6      58      56      11   \n",
       "4      2634  19/09/2023      56       8      28      48      32      27   \n",
       "\n",
       "         sequencia_numeros sequencial  \n",
       "0  [9, 30, 34, 44, 54, 55]        Yes  \n",
       "1   [1, 2, 10, 32, 34, 59]        Yes  \n",
       "2  [5, 16, 38, 42, 43, 48]        Yes  \n",
       "3  [6, 11, 29, 37, 56, 58]         No  \n",
       "4  [8, 27, 28, 32, 48, 56]        Yes  "
      ]
     },
     "execution_count": 3,
     "metadata": {},
     "output_type": "execute_result"
    }
   ],
   "source": [
    "data = pd.read_excel('resultados_mega.xlsx')\n",
    "data.head()"
   ]
  },
  {
   "cell_type": "code",
   "execution_count": 5,
   "metadata": {},
   "outputs": [],
   "source": [
    "data['Data'] = pd.to_datetime(data['Data'], format='%d/%m/%Y')\n",
    "\n",
    "results_per_year = {}\n",
    "for year, grup in data.groupby(data['Data'].dt.year):\n",
    "    results_per_year[year] = grup\n",
    "\n",
    "year2023 = results_per_year.get(2023)\n",
    "year2022 = results_per_year.get(2022)\n",
    "year2021 = results_per_year.get(2021)\n",
    "year2020 = results_per_year.get(2020)\n",
    "year2019 = results_per_year.get(2019)\n",
    "year2018 = results_per_year.get(2018)\n",
    "year2017 = results_per_year.get(2017)\n",
    "year2016 = results_per_year.get(2016)\n",
    "year2015 = results_per_year.get(2015)\n",
    "year2014 = results_per_year.get(2014)\n",
    "year2013 = results_per_year.get(2013)\n",
    "year2012 = results_per_year.get(2012)\n",
    "year2011 = results_per_year.get(2011)\n",
    "year2010 = results_per_year.get(2010)\n",
    "year2009 = results_per_year.get(2009)\n",
    "year2008 = results_per_year.get(2008)\n",
    "year2007 = results_per_year.get(2007)\n",
    "year2006 = results_per_year.get(2006)\n",
    "year2005 = results_per_year.get(2005)\n",
    "year2004 = results_per_year.get(2004)\n",
    "year2003 = results_per_year.get(2003)\n",
    "year2002 = results_per_year.get(2002)\n",
    "year2001 = results_per_year.get(2001)\n",
    "year2000 = results_per_year.get(2000)\n",
    "year1999 = results_per_year.get(1999)\n",
    "year1998 = results_per_year.get(1998)\n",
    "year1997 = results_per_year.get(1997)\n",
    "year1996 = results_per_year.get(1996)"
   ]
  },
  {
   "cell_type": "code",
   "execution_count": 6,
   "metadata": {},
   "outputs": [
    {
     "data": {
      "text/plain": [
       "Yes    53.488372\n",
       "No     46.511628\n",
       "Name: sequencial, dtype: float64"
      ]
     },
     "execution_count": 6,
     "metadata": {},
     "output_type": "execute_result"
    }
   ],
   "source": [
    "year1996['sequencial'].value_counts()/ len(year1996['sequencial']) * 100"
   ]
  },
  {
   "cell_type": "code",
   "execution_count": 7,
   "metadata": {},
   "outputs": [
    {
     "data": {
      "text/plain": [
       "No     59.615385\n",
       "Yes    40.384615\n",
       "Name: sequencial, dtype: float64"
      ]
     },
     "execution_count": 7,
     "metadata": {},
     "output_type": "execute_result"
    }
   ],
   "source": [
    "year1997['sequencial'].value_counts()/ len(year1997['sequencial']) * 100"
   ]
  },
  {
   "cell_type": "code",
   "execution_count": 8,
   "metadata": {},
   "outputs": [
    {
     "data": {
      "text/plain": [
       "Yes    52.830189\n",
       "No     47.169811\n",
       "Name: sequencial, dtype: float64"
      ]
     },
     "execution_count": 8,
     "metadata": {},
     "output_type": "execute_result"
    }
   ],
   "source": [
    "year1998['sequencial'].value_counts()/ len(year1998['sequencial']) * 100"
   ]
  },
  {
   "cell_type": "code",
   "execution_count": 9,
   "metadata": {},
   "outputs": [
    {
     "data": {
      "text/plain": [
       "No     69.230769\n",
       "Yes    30.769231\n",
       "Name: sequencial, dtype: float64"
      ]
     },
     "execution_count": 9,
     "metadata": {},
     "output_type": "execute_result"
    }
   ],
   "source": [
    "year1999['sequencial'].value_counts()/ len(year1999['sequencial']) * 100"
   ]
  },
  {
   "cell_type": "code",
   "execution_count": 10,
   "metadata": {},
   "outputs": [
    {
     "data": {
      "text/plain": [
       "No     65.384615\n",
       "Yes    34.615385\n",
       "Name: sequencial, dtype: float64"
      ]
     },
     "execution_count": 10,
     "metadata": {},
     "output_type": "execute_result"
    }
   ],
   "source": [
    "year2000['sequencial'].value_counts()/ len(year2000['sequencial']) * 100"
   ]
  },
  {
   "cell_type": "code",
   "execution_count": 11,
   "metadata": {},
   "outputs": [
    {
     "data": {
      "text/plain": [
       "No     50.684932\n",
       "Yes    49.315068\n",
       "Name: sequencial, dtype: float64"
      ]
     },
     "execution_count": 11,
     "metadata": {},
     "output_type": "execute_result"
    }
   ],
   "source": [
    "year2001['sequencial'].value_counts()/ len(year2001['sequencial']) * 100"
   ]
  },
  {
   "cell_type": "code",
   "execution_count": 12,
   "metadata": {},
   "outputs": [
    {
     "data": {
      "text/plain": [
       "No     58.0\n",
       "Yes    42.0\n",
       "Name: sequencial, dtype: float64"
      ]
     },
     "execution_count": 12,
     "metadata": {},
     "output_type": "execute_result"
    }
   ],
   "source": [
    "year2002['sequencial'].value_counts()/ len(year2002['sequencial']) * 100"
   ]
  },
  {
   "cell_type": "code",
   "execution_count": 13,
   "metadata": {},
   "outputs": [
    {
     "data": {
      "text/plain": [
       "No     55.0\n",
       "Yes    45.0\n",
       "Name: sequencial, dtype: float64"
      ]
     },
     "execution_count": 13,
     "metadata": {},
     "output_type": "execute_result"
    }
   ],
   "source": [
    "year2003['sequencial'].value_counts()/ len(year2003['sequencial']) * 100"
   ]
  },
  {
   "cell_type": "code",
   "execution_count": 14,
   "metadata": {},
   "outputs": [
    {
     "data": {
      "text/plain": [
       "No     64.705882\n",
       "Yes    35.294118\n",
       "Name: sequencial, dtype: float64"
      ]
     },
     "execution_count": 14,
     "metadata": {},
     "output_type": "execute_result"
    }
   ],
   "source": [
    "year2004['sequencial'].value_counts()/ len(year2004['sequencial']) * 100"
   ]
  },
  {
   "cell_type": "code",
   "execution_count": 15,
   "metadata": {},
   "outputs": [
    {
     "data": {
      "text/plain": [
       "No     62.244898\n",
       "Yes    37.755102\n",
       "Name: sequencial, dtype: float64"
      ]
     },
     "execution_count": 15,
     "metadata": {},
     "output_type": "execute_result"
    }
   ],
   "source": [
    "year2005['sequencial'].value_counts()/ len(year2005['sequencial']) * 100"
   ]
  },
  {
   "cell_type": "code",
   "execution_count": 16,
   "metadata": {},
   "outputs": [
    {
     "data": {
      "text/plain": [
       "No     56.730769\n",
       "Yes    43.269231\n",
       "Name: sequencial, dtype: float64"
      ]
     },
     "execution_count": 16,
     "metadata": {},
     "output_type": "execute_result"
    }
   ],
   "source": [
    "year2006['sequencial'].value_counts()/ len(year2006['sequencial']) * 100"
   ]
  },
  {
   "cell_type": "code",
   "execution_count": 17,
   "metadata": {},
   "outputs": [
    {
     "data": {
      "text/plain": [
       "No     56.862745\n",
       "Yes    43.137255\n",
       "Name: sequencial, dtype: float64"
      ]
     },
     "execution_count": 17,
     "metadata": {},
     "output_type": "execute_result"
    }
   ],
   "source": [
    "year2007['sequencial'].value_counts()/ len(year2007['sequencial']) * 100"
   ]
  },
  {
   "cell_type": "code",
   "execution_count": 18,
   "metadata": {},
   "outputs": [
    {
     "data": {
      "text/plain": [
       "No     56.730769\n",
       "Yes    43.269231\n",
       "Name: sequencial, dtype: float64"
      ]
     },
     "execution_count": 18,
     "metadata": {},
     "output_type": "execute_result"
    }
   ],
   "source": [
    "year2008['sequencial'].value_counts()/ len(year2008['sequencial']) * 100"
   ]
  },
  {
   "cell_type": "code",
   "execution_count": 19,
   "metadata": {},
   "outputs": [
    {
     "data": {
      "text/plain": [
       "No     60.0\n",
       "Yes    40.0\n",
       "Name: sequencial, dtype: float64"
      ]
     },
     "execution_count": 19,
     "metadata": {},
     "output_type": "execute_result"
    }
   ],
   "source": [
    "year2009['sequencial'].value_counts()/ len(year2009['sequencial']) * 100"
   ]
  },
  {
   "cell_type": "code",
   "execution_count": 20,
   "metadata": {},
   "outputs": [
    {
     "data": {
      "text/plain": [
       "No     60.952381\n",
       "Yes    39.047619\n",
       "Name: sequencial, dtype: float64"
      ]
     },
     "execution_count": 20,
     "metadata": {},
     "output_type": "execute_result"
    }
   ],
   "source": [
    "year2010['sequencial'].value_counts()/ len(year2010['sequencial']) * 100"
   ]
  },
  {
   "cell_type": "code",
   "execution_count": 21,
   "metadata": {},
   "outputs": [
    {
     "data": {
      "text/plain": [
       "No     51.428571\n",
       "Yes    48.571429\n",
       "Name: sequencial, dtype: float64"
      ]
     },
     "execution_count": 21,
     "metadata": {},
     "output_type": "execute_result"
    }
   ],
   "source": [
    "year2011['sequencial'].value_counts()/ len(year2011['sequencial']) * 100"
   ]
  },
  {
   "cell_type": "code",
   "execution_count": 22,
   "metadata": {},
   "outputs": [
    {
     "data": {
      "text/plain": [
       "No     62.857143\n",
       "Yes    37.142857\n",
       "Name: sequencial, dtype: float64"
      ]
     },
     "execution_count": 22,
     "metadata": {},
     "output_type": "execute_result"
    }
   ],
   "source": [
    "year2012['sequencial'].value_counts()/ len(year2012['sequencial']) * 100"
   ]
  },
  {
   "cell_type": "code",
   "execution_count": 23,
   "metadata": {},
   "outputs": [
    {
     "data": {
      "text/plain": [
       "No     60.952381\n",
       "Yes    39.047619\n",
       "Name: sequencial, dtype: float64"
      ]
     },
     "execution_count": 23,
     "metadata": {},
     "output_type": "execute_result"
    }
   ],
   "source": [
    "year2013['sequencial'].value_counts()/ len(year2013['sequencial']) * 100"
   ]
  },
  {
   "cell_type": "code",
   "execution_count": 24,
   "metadata": {},
   "outputs": [
    {
     "data": {
      "text/plain": [
       "No     58.095238\n",
       "Yes    41.904762\n",
       "Name: sequencial, dtype: float64"
      ]
     },
     "execution_count": 24,
     "metadata": {},
     "output_type": "execute_result"
    }
   ],
   "source": [
    "year2014['sequencial'].value_counts()/ len(year2014['sequencial']) * 100"
   ]
  },
  {
   "cell_type": "code",
   "execution_count": 25,
   "metadata": {},
   "outputs": [
    {
     "data": {
      "text/plain": [
       "No     58.181818\n",
       "Yes    41.818182\n",
       "Name: sequencial, dtype: float64"
      ]
     },
     "execution_count": 25,
     "metadata": {},
     "output_type": "execute_result"
    }
   ],
   "source": [
    "year2015['sequencial'].value_counts()/ len(year2015['sequencial']) * 100"
   ]
  },
  {
   "cell_type": "code",
   "execution_count": 26,
   "metadata": {},
   "outputs": [
    {
     "data": {
      "text/plain": [
       "No     51.304348\n",
       "Yes    48.695652\n",
       "Name: sequencial, dtype: float64"
      ]
     },
     "execution_count": 26,
     "metadata": {},
     "output_type": "execute_result"
    }
   ],
   "source": [
    "year2016['sequencial'].value_counts()/ len(year2016['sequencial']) * 100"
   ]
  },
  {
   "cell_type": "code",
   "execution_count": 27,
   "metadata": {},
   "outputs": [
    {
     "data": {
      "text/plain": [
       "No     58.181818\n",
       "Yes    41.818182\n",
       "Name: sequencial, dtype: float64"
      ]
     },
     "execution_count": 27,
     "metadata": {},
     "output_type": "execute_result"
    }
   ],
   "source": [
    "year2017['sequencial'].value_counts()/ len(year2017['sequencial']) * 100"
   ]
  },
  {
   "cell_type": "code",
   "execution_count": 28,
   "metadata": {},
   "outputs": [
    {
     "data": {
      "text/plain": [
       "No     57.272727\n",
       "Yes    42.727273\n",
       "Name: sequencial, dtype: float64"
      ]
     },
     "execution_count": 28,
     "metadata": {},
     "output_type": "execute_result"
    }
   ],
   "source": [
    "year2018['sequencial'].value_counts()/ len(year2018['sequencial']) * 100"
   ]
  },
  {
   "cell_type": "code",
   "execution_count": 29,
   "metadata": {},
   "outputs": [
    {
     "data": {
      "text/plain": [
       "No     58.181818\n",
       "Yes    41.818182\n",
       "Name: sequencial, dtype: float64"
      ]
     },
     "execution_count": 29,
     "metadata": {},
     "output_type": "execute_result"
    }
   ],
   "source": [
    "year2019['sequencial'].value_counts()/ len(year2019['sequencial']) * 100"
   ]
  },
  {
   "cell_type": "code",
   "execution_count": 30,
   "metadata": {},
   "outputs": [
    {
     "data": {
      "text/plain": [
       "No     56.363636\n",
       "Yes    43.636364\n",
       "Name: sequencial, dtype: float64"
      ]
     },
     "execution_count": 30,
     "metadata": {},
     "output_type": "execute_result"
    }
   ],
   "source": [
    "year2020['sequencial'].value_counts()/ len(year2020['sequencial']) * 100"
   ]
  },
  {
   "cell_type": "code",
   "execution_count": 31,
   "metadata": {},
   "outputs": [
    {
     "data": {
      "text/plain": [
       "No     57.272727\n",
       "Yes    42.727273\n",
       "Name: sequencial, dtype: float64"
      ]
     },
     "execution_count": 31,
     "metadata": {},
     "output_type": "execute_result"
    }
   ],
   "source": [
    "year2021['sequencial'].value_counts()/ len(year2021['sequencial']) * 100"
   ]
  },
  {
   "cell_type": "code",
   "execution_count": 32,
   "metadata": {},
   "outputs": [
    {
     "data": {
      "text/plain": [
       "No     52.727273\n",
       "Yes    47.272727\n",
       "Name: sequencial, dtype: float64"
      ]
     },
     "execution_count": 32,
     "metadata": {},
     "output_type": "execute_result"
    }
   ],
   "source": [
    "year2022['sequencial'].value_counts()/ len(year2022['sequencial']) * 100"
   ]
  },
  {
   "cell_type": "code",
   "execution_count": 33,
   "metadata": {},
   "outputs": [
    {
     "data": {
      "text/plain": [
       "No     62.5\n",
       "Yes    37.5\n",
       "Name: sequencial, dtype: float64"
      ]
     },
     "execution_count": 33,
     "metadata": {},
     "output_type": "execute_result"
    }
   ],
   "source": [
    "year2023['sequencial'].value_counts()/ len(year2023['sequencial']) * 100"
   ]
  },
  {
   "cell_type": "code",
   "execution_count": 36,
   "metadata": {},
   "outputs": [
    {
     "name": "stdout",
     "output_type": "stream",
     "text": [
      "Probability of a sequence of 2 numbers: 3.3333333333333335\n"
     ]
    }
   ],
   "source": [
    "import math\n",
    "# Checking probability\n",
    "total_numbers = 60\n",
    "\n",
    "num_sequence = 2\n",
    "\n",
    "num_sequence_possible = total_numbers - num_sequence + 1\n",
    "\n",
    "total_combinations = math.comb(total_numbers, num_sequence)\n",
    "\n",
    "probability = num_sequence_possible / total_combinations\n",
    "\n",
    "print(\"Probability of a sequence of 2 numbers:\", probability * 100)"
   ]
  }
 ],
 "metadata": {
  "kernelspec": {
   "display_name": "Python 3",
   "language": "python",
   "name": "python3"
  },
  "language_info": {
   "codemirror_mode": {
    "name": "ipython",
    "version": 3
   },
   "file_extension": ".py",
   "mimetype": "text/x-python",
   "name": "python",
   "nbconvert_exporter": "python",
   "pygments_lexer": "ipython3",
   "version": "3.10.11"
  },
  "orig_nbformat": 4
 },
 "nbformat": 4,
 "nbformat_minor": 2
}
