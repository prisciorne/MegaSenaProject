{
 "cells": [
  {
   "cell_type": "code",
   "execution_count": 1,
   "metadata": {},
   "outputs": [],
   "source": [
    "import numpy as np\n",
    "import pandas as pd"
   ]
  },
  {
   "cell_type": "code",
   "execution_count": 2,
   "metadata": {},
   "outputs": [],
   "source": [
    "# The results are available for download at https://asloterias.com.br/download-todos-resultados-mega-sena"
   ]
  },
  {
   "cell_type": "code",
   "execution_count": 3,
   "metadata": {},
   "outputs": [
    {
     "data": {
      "text/html": [
       "<div>\n",
       "<style scoped>\n",
       "    .dataframe tbody tr th:only-of-type {\n",
       "        vertical-align: middle;\n",
       "    }\n",
       "\n",
       "    .dataframe tbody tr th {\n",
       "        vertical-align: top;\n",
       "    }\n",
       "\n",
       "    .dataframe thead th {\n",
       "        text-align: right;\n",
       "    }\n",
       "</style>\n",
       "<table border=\"1\" class=\"dataframe\">\n",
       "  <thead>\n",
       "    <tr style=\"text-align: right;\">\n",
       "      <th></th>\n",
       "      <th>Concurso</th>\n",
       "      <th>Data</th>\n",
       "      <th>bola 1</th>\n",
       "      <th>bola 2</th>\n",
       "      <th>bola 3</th>\n",
       "      <th>bola 4</th>\n",
       "      <th>bola 5</th>\n",
       "      <th>bola 6</th>\n",
       "    </tr>\n",
       "  </thead>\n",
       "  <tbody>\n",
       "    <tr>\n",
       "      <th>0</th>\n",
       "      <td>2638</td>\n",
       "      <td>28/09/2023</td>\n",
       "      <td>44</td>\n",
       "      <td>55</td>\n",
       "      <td>54</td>\n",
       "      <td>30</td>\n",
       "      <td>34</td>\n",
       "      <td>9</td>\n",
       "    </tr>\n",
       "    <tr>\n",
       "      <th>1</th>\n",
       "      <td>2637</td>\n",
       "      <td>26/09/2023</td>\n",
       "      <td>32</td>\n",
       "      <td>34</td>\n",
       "      <td>10</td>\n",
       "      <td>1</td>\n",
       "      <td>59</td>\n",
       "      <td>2</td>\n",
       "    </tr>\n",
       "    <tr>\n",
       "      <th>2</th>\n",
       "      <td>2636</td>\n",
       "      <td>23/09/2023</td>\n",
       "      <td>43</td>\n",
       "      <td>16</td>\n",
       "      <td>5</td>\n",
       "      <td>38</td>\n",
       "      <td>42</td>\n",
       "      <td>48</td>\n",
       "    </tr>\n",
       "    <tr>\n",
       "      <th>3</th>\n",
       "      <td>2635</td>\n",
       "      <td>21/09/2023</td>\n",
       "      <td>37</td>\n",
       "      <td>29</td>\n",
       "      <td>6</td>\n",
       "      <td>58</td>\n",
       "      <td>56</td>\n",
       "      <td>11</td>\n",
       "    </tr>\n",
       "    <tr>\n",
       "      <th>4</th>\n",
       "      <td>2634</td>\n",
       "      <td>19/09/2023</td>\n",
       "      <td>56</td>\n",
       "      <td>8</td>\n",
       "      <td>28</td>\n",
       "      <td>48</td>\n",
       "      <td>32</td>\n",
       "      <td>27</td>\n",
       "    </tr>\n",
       "  </tbody>\n",
       "</table>\n",
       "</div>"
      ],
      "text/plain": [
       "   Concurso        Data  bola 1  bola 2  bola 3  bola 4  bola 5  bola 6\n",
       "0      2638  28/09/2023      44      55      54      30      34       9\n",
       "1      2637  26/09/2023      32      34      10       1      59       2\n",
       "2      2636  23/09/2023      43      16       5      38      42      48\n",
       "3      2635  21/09/2023      37      29       6      58      56      11\n",
       "4      2634  19/09/2023      56       8      28      48      32      27"
      ]
     },
     "execution_count": 3,
     "metadata": {},
     "output_type": "execute_result"
    }
   ],
   "source": [
    "data = pd.read_excel('mega_sena_asloterias.xlsx')\n",
    "data.head()"
   ]
  },
  {
   "cell_type": "code",
   "execution_count": 4,
   "metadata": {},
   "outputs": [
    {
     "data": {
      "text/html": [
       "<div>\n",
       "<style scoped>\n",
       "    .dataframe tbody tr th:only-of-type {\n",
       "        vertical-align: middle;\n",
       "    }\n",
       "\n",
       "    .dataframe tbody tr th {\n",
       "        vertical-align: top;\n",
       "    }\n",
       "\n",
       "    .dataframe thead th {\n",
       "        text-align: right;\n",
       "    }\n",
       "</style>\n",
       "<table border=\"1\" class=\"dataframe\">\n",
       "  <thead>\n",
       "    <tr style=\"text-align: right;\">\n",
       "      <th></th>\n",
       "      <th>Concurso</th>\n",
       "      <th>Data</th>\n",
       "      <th>bola 1</th>\n",
       "      <th>bola 2</th>\n",
       "      <th>bola 3</th>\n",
       "      <th>bola 4</th>\n",
       "      <th>bola 5</th>\n",
       "      <th>bola 6</th>\n",
       "      <th>sequencia_numeros</th>\n",
       "      <th>sequencial</th>\n",
       "    </tr>\n",
       "  </thead>\n",
       "  <tbody>\n",
       "    <tr>\n",
       "      <th>0</th>\n",
       "      <td>2638</td>\n",
       "      <td>28/09/2023</td>\n",
       "      <td>44</td>\n",
       "      <td>55</td>\n",
       "      <td>54</td>\n",
       "      <td>30</td>\n",
       "      <td>34</td>\n",
       "      <td>9</td>\n",
       "      <td>[9, 30, 34, 44, 54, 55]</td>\n",
       "      <td>Yes</td>\n",
       "    </tr>\n",
       "    <tr>\n",
       "      <th>1</th>\n",
       "      <td>2637</td>\n",
       "      <td>26/09/2023</td>\n",
       "      <td>32</td>\n",
       "      <td>34</td>\n",
       "      <td>10</td>\n",
       "      <td>1</td>\n",
       "      <td>59</td>\n",
       "      <td>2</td>\n",
       "      <td>[1, 2, 10, 32, 34, 59]</td>\n",
       "      <td>Yes</td>\n",
       "    </tr>\n",
       "    <tr>\n",
       "      <th>2</th>\n",
       "      <td>2636</td>\n",
       "      <td>23/09/2023</td>\n",
       "      <td>43</td>\n",
       "      <td>16</td>\n",
       "      <td>5</td>\n",
       "      <td>38</td>\n",
       "      <td>42</td>\n",
       "      <td>48</td>\n",
       "      <td>[5, 16, 38, 42, 43, 48]</td>\n",
       "      <td>Yes</td>\n",
       "    </tr>\n",
       "    <tr>\n",
       "      <th>3</th>\n",
       "      <td>2635</td>\n",
       "      <td>21/09/2023</td>\n",
       "      <td>37</td>\n",
       "      <td>29</td>\n",
       "      <td>6</td>\n",
       "      <td>58</td>\n",
       "      <td>56</td>\n",
       "      <td>11</td>\n",
       "      <td>[6, 11, 29, 37, 56, 58]</td>\n",
       "      <td>No</td>\n",
       "    </tr>\n",
       "    <tr>\n",
       "      <th>4</th>\n",
       "      <td>2634</td>\n",
       "      <td>19/09/2023</td>\n",
       "      <td>56</td>\n",
       "      <td>8</td>\n",
       "      <td>28</td>\n",
       "      <td>48</td>\n",
       "      <td>32</td>\n",
       "      <td>27</td>\n",
       "      <td>[8, 27, 28, 32, 48, 56]</td>\n",
       "      <td>Yes</td>\n",
       "    </tr>\n",
       "  </tbody>\n",
       "</table>\n",
       "</div>"
      ],
      "text/plain": [
       "   Concurso        Data  bola 1  bola 2  bola 3  bola 4  bola 5  bola 6  \\\n",
       "0      2638  28/09/2023      44      55      54      30      34       9   \n",
       "1      2637  26/09/2023      32      34      10       1      59       2   \n",
       "2      2636  23/09/2023      43      16       5      38      42      48   \n",
       "3      2635  21/09/2023      37      29       6      58      56      11   \n",
       "4      2634  19/09/2023      56       8      28      48      32      27   \n",
       "\n",
       "         sequencia_numeros sequencial  \n",
       "0  [9, 30, 34, 44, 54, 55]        Yes  \n",
       "1   [1, 2, 10, 32, 34, 59]        Yes  \n",
       "2  [5, 16, 38, 42, 43, 48]        Yes  \n",
       "3  [6, 11, 29, 37, 56, 58]         No  \n",
       "4  [8, 27, 28, 32, 48, 56]        Yes  "
      ]
     },
     "execution_count": 4,
     "metadata": {},
     "output_type": "execute_result"
    }
   ],
   "source": [
    "def has_at_least_two_sequential(nums):\n",
    "    nums.sort()  \n",
    "    for i in range(len(nums) - 1):\n",
    "        if nums[i] + 1 == nums[i + 1]:\n",
    "            return 'Yes'\n",
    "    return 'No'\n",
    "\n",
    "data['sequencia_numeros'] = data[['bola 1', 'bola 2', 'bola 3', 'bola 4', 'bola 5', 'bola 6']].apply(lambda row: ','.join(map(str, row)), axis=1)\n",
    "\n",
    "data['sequencia_numeros'] = data['sequencia_numeros'].apply(lambda s: list(map(int, s.split(','))))\n",
    "\n",
    "data['sequencial'] = data['sequencia_numeros'].apply(has_at_least_two_sequential)\n",
    "\n",
    "data.head()"
   ]
  },
  {
   "cell_type": "code",
   "execution_count": 5,
   "metadata": {},
   "outputs": [
    {
     "data": {
      "text/plain": [
       "No     1523\n",
       "Yes    1115\n",
       "Name: sequencial, dtype: int64"
      ]
     },
     "execution_count": 5,
     "metadata": {},
     "output_type": "execute_result"
    }
   ],
   "source": [
    "data['sequencial'].value_counts()"
   ]
  },
  {
   "cell_type": "code",
   "execution_count": 6,
   "metadata": {},
   "outputs": [
    {
     "data": {
      "text/plain": [
       "No     57.733131\n",
       "Yes    42.266869\n",
       "Name: sequencial, dtype: float64"
      ]
     },
     "execution_count": 6,
     "metadata": {},
     "output_type": "execute_result"
    }
   ],
   "source": [
    "data['sequencial'].value_counts()/ len(data['sequencial']) * 100\n"
   ]
  },
  {
   "cell_type": "code",
   "execution_count": 7,
   "metadata": {},
   "outputs": [],
   "source": [
    "# data.to_excel('resultados_mega.xlsx', index=False)"
   ]
  },
  {
   "cell_type": "code",
   "execution_count": 8,
   "metadata": {},
   "outputs": [
    {
     "data": {
      "text/plain": [
       "[9, 30, 34, 44, 54, 55]     1\n",
       "[17, 33, 37, 50, 55, 59]    1\n",
       "[2, 11, 12, 14, 22, 39]     1\n",
       "[21, 32, 37, 52, 53, 60]    1\n",
       "[17, 41, 42, 44, 45, 60]    1\n",
       "                           ..\n",
       "[6, 11, 16, 23, 36, 42]     1\n",
       "[13, 25, 28, 37, 43, 56]    1\n",
       "[6, 13, 14, 28, 35, 45]     1\n",
       "[2, 5, 8, 18, 30, 48]       1\n",
       "[4, 5, 30, 33, 41, 52]      1\n",
       "Name: sequencia_numeros, Length: 2638, dtype: int64"
      ]
     },
     "execution_count": 8,
     "metadata": {},
     "output_type": "execute_result"
    }
   ],
   "source": [
    "data['sequencia_numeros'].value_counts()"
   ]
  },
  {
   "cell_type": "code",
   "execution_count": 1,
   "metadata": {},
   "outputs": [
    {
     "name": "stdout",
     "output_type": "stream",
     "text": [
      "1. Quantidade de pares consecutivos entre 1 e 60: 59\n",
      "2. Número total de combinações: 50063860\n",
      "3. Número de combinações com pelo menos um par consecutivo: 21074185\n",
      "4. A probabilidade de ter pelo menos um par de números consecutivos na Mega Sena é aproximadamente: 42.094607%\n"
     ]
    }
   ],
   "source": [
    "from math import comb\n",
    "   \n",
    "def calcular_pares_consecutivos(total_numeros):\n",
    "    return total_numeros - 1\n",
    "   \n",
    "def calcular_combinacoes_total(total_numeros, numeros_escolhidos):\n",
    "    return comb(total_numeros, numeros_escolhidos)\n",
    "\n",
    "def calcular_combinacoes_sem_par_consecutivo(total_numeros, numeros_escolhidos):\n",
    "    return comb(total_numeros - numeros_escolhidos + 1, numeros_escolhidos)\n",
    "\n",
    "def calcular_combinacoes_com_par_consecutivo(total_numeros, numeros_escolhidos):\n",
    "    combinacoes_sem_consecutivos = calcular_combinacoes_sem_par_consecutivo(total_numeros, numeros_escolhidos)\n",
    "    combinacoes_total = calcular_combinacoes_total(total_numeros, numeros_escolhidos)\n",
    "    combinacoes_com_par_consecutivo = combinacoes_total - combinacoes_sem_consecutivos\n",
    "    return combinacoes_com_par_consecutivo\n",
    "  \n",
    "def calcular_probabilidade_consecutivos(total_numeros, numeros_escolhidos):\n",
    "    combinacoes_com_par_consecutivo = calcular_combinacoes_com_par_consecutivo(total_numeros, numeros_escolhidos)\n",
    "    combinacoes_total = calcular_combinacoes_total(total_numeros, numeros_escolhidos)\n",
    "    probabilidade_consecutivos = combinacoes_com_par_consecutivo / combinacoes_total\n",
    "    return probabilidade_consecutivos\n",
    "  \n",
    "total_numeros_mega_sena = 60\n",
    "numeros_escolhidos_mega_sena = 6\n",
    "  \n",
    "# 1. Quantos pares de números consecutivos existem entre 1 e 60?\n",
    "pares_consecutivos = calcular_pares_consecutivos(total_numeros_mega_sena)\n",
    "print(f\"1. Quantidade de pares consecutivos entre 1 e 60: {pares_consecutivos}\")\n",
    "  \n",
    "# 2. Quantas combinações de sorteios de 6 números existem entre 1 e 60?\n",
    "combinacoes_total = calcular_combinacoes_total(total_numeros_mega_sena, numeros_escolhidos_mega_sena)\n",
    "print(f\"2. Número total de combinações: {combinacoes_total}\")\n",
    "  \n",
    "# 3. Quantas combinações desses sorteios possuem pelo menos um par de números consecutivos?\n",
    "combinacoes_com_par_consecutivo = calcular_combinacoes_com_par_consecutivo(total_numeros_mega_sena, numeros_escolhidos_mega_sena)\n",
    "print(f\"3. Número de combinações com pelo menos um par consecutivo: {combinacoes_com_par_consecutivo}\")\n",
    "  \n",
    "# 4. Subtrair o resultado do item 3 do número total de combinações e calcular a probabilidade.\n",
    "probabilidade = calcular_probabilidade_consecutivos(total_numeros_mega_sena, numeros_escolhidos_mega_sena)\n",
    "print(f\"4. A probabilidade de ter pelo menos um par de números consecutivos na Mega Sena é aproximadamente: {probabilidade * 100:.6f}%\")"
   ]
  }
 ],
 "metadata": {
  "kernelspec": {
   "display_name": "Python 3",
   "language": "python",
   "name": "python3"
  },
  "language_info": {
   "codemirror_mode": {
    "name": "ipython",
    "version": 3
   },
   "file_extension": ".py",
   "mimetype": "text/x-python",
   "name": "python",
   "nbconvert_exporter": "python",
   "pygments_lexer": "ipython3",
   "version": "3.10.11"
  },
  "orig_nbformat": 4
 },
 "nbformat": 4,
 "nbformat_minor": 2
}
